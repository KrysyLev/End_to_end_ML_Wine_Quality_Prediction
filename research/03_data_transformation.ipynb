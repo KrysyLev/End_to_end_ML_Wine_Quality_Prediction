{
 "cells": [
  {
   "cell_type": "code",
   "execution_count": 1,
   "metadata": {},
   "outputs": [],
   "source": [
    "import os"
   ]
  },
  {
   "cell_type": "code",
   "execution_count": 2,
   "metadata": {},
   "outputs": [
    {
     "data": {
      "text/plain": [
       "'c:\\\\Users\\\\nguye\\\\Documents\\\\AI\\\\Youtube_tutorials\\\\end-to-end-ml-project\\\\research'"
      ]
     },
     "execution_count": 2,
     "metadata": {},
     "output_type": "execute_result"
    }
   ],
   "source": [
    "%pwd"
   ]
  },
  {
   "cell_type": "code",
   "execution_count": 3,
   "metadata": {},
   "outputs": [],
   "source": [
    "os.chdir(\"../\")"
   ]
  },
  {
   "cell_type": "code",
   "execution_count": 4,
   "metadata": {},
   "outputs": [
    {
     "data": {
      "text/plain": [
       "'c:\\\\Users\\\\nguye\\\\Documents\\\\AI\\\\Youtube_tutorials\\\\end-to-end-ml-project'"
      ]
     },
     "execution_count": 4,
     "metadata": {},
     "output_type": "execute_result"
    }
   ],
   "source": [
    "%pwd"
   ]
  },
  {
   "cell_type": "code",
   "execution_count": 5,
   "metadata": {},
   "outputs": [],
   "source": [
    "from dataclasses import dataclass\n",
    "from pathlib import Path\n",
    "\n",
    "\n",
    "@dataclass(frozen=True)\n",
    "class DataTransformationConfig:\n",
    "    root_dir: Path\n",
    "    data_path: Path"
   ]
  },
  {
   "cell_type": "code",
   "execution_count": 6,
   "metadata": {},
   "outputs": [],
   "source": [
    "from ml_in_action.constants import *\n",
    "from ml_in_action.utils.common import read_yaml, create_directories"
   ]
  },
  {
   "cell_type": "code",
   "execution_count": 7,
   "metadata": {},
   "outputs": [],
   "source": [
    "class ConfigurationManager:\n",
    "    def __init__(\n",
    "        self,\n",
    "        config_filepath = CONFIG_FILE_PATH,\n",
    "        params_filepath = PARAMS_FILE_PATH,\n",
    "        schema_filepath = SCHEMA_FILE_PATH):\n",
    "\n",
    "        self.config = read_yaml(config_filepath)\n",
    "        self.params = read_yaml(params_filepath)\n",
    "        self.schema = read_yaml(schema_filepath)\n",
    "\n",
    "        create_directories([self.config.artifacts_root])\n",
    "\n",
    "    \n",
    "    def get_data_transformation_config(self) -> DataTransformationConfig:\n",
    "        config = self.config.data_transformation\n",
    "\n",
    "        create_directories([config.root_dir])\n",
    "\n",
    "        data_transformation_config = DataTransformationConfig(\n",
    "            root_dir=config.root_dir,\n",
    "            data_path=config.data_path,\n",
    "        )\n",
    "\n",
    "        return data_transformation_config"
   ]
  },
  {
   "cell_type": "code",
   "execution_count": 8,
   "metadata": {},
   "outputs": [],
   "source": [
    "import os\n",
    "from ml_in_action import logger\n",
    "from sklearn.model_selection import train_test_split\n",
    "from sklearn.preprocessing import MinMaxScaler\n",
    "import pandas as pd"
   ]
  },
  {
   "cell_type": "code",
   "execution_count": 9,
   "metadata": {},
   "outputs": [],
   "source": [
    "class DataTransformation:\n",
    "    def __init__(self, config):\n",
    "        self.config = config\n",
    "\n",
    "    def train_test_spliting(self):\n",
    "        # Load dataset\n",
    "        data = pd.read_csv(self.config.data_path)\n",
    "\n",
    "        # Drop the last column (assuming it's named 'Id')\n",
    "        if 'Id' in data.columns:\n",
    "            data = data.drop(columns=['Id'])\n",
    "        \n",
    "        # Rename columns to better recall them.\n",
    "        data.rename(columns = {\"fixed acidity\": \"fixed_acidity\",\n",
    "                            \"volatile acidity\": \"volatile_acidity\",\n",
    "                            \"citric acid\": \"citric_acid\",\n",
    "                            \"residual sugar\": \"residual_sugar\",\n",
    "                            \"chlorides\": \"chlorides\",\n",
    "                            \"free sulfur dioxide\": \"free_sulfur_dioxide\",\n",
    "                            \"total sulfur dioxide\": \"total_sulfur_dioxide\"},\n",
    "                    inplace = True)\n",
    "\n",
    "        # Replace with the label Bad, Middle, Good\n",
    "        data = data.replace({'quality': {\n",
    "            8: 'Good',\n",
    "            7: 'Good',\n",
    "            6: 'Middle',\n",
    "            5: 'Middle',\n",
    "            4: 'Bad',\n",
    "            3: 'Bad',\n",
    "        }})\n",
    "        \n",
    "        # Data Regularization\n",
    "        X_temp = data.drop(columns='quality')\n",
    "        y = data.quality\n",
    "        \n",
    "        scaler = MinMaxScaler(feature_range=(0, 1)).fit_transform(X_temp)\n",
    "        X = pd.DataFrame(scaler, columns=X_temp.columns)\n",
    "\n",
    "        # Train-test split (80% train, 20% test)\n",
    "        X_train, X_test, y_train, y_test = train_test_split(X, y, test_size=0.2, random_state=42)\n",
    "\n",
    "        # Convert back to DataFrame\n",
    "        train = pd.DataFrame(X_train, columns=X.columns)\n",
    "        train['quality'] = y_train.values  # Add target back\n",
    "\n",
    "        test = pd.DataFrame(X_test, columns=X.columns)\n",
    "        test['quality'] = y_test.values  # Add target back\n",
    "\n",
    "        # Save processed data\n",
    "        train.to_csv(os.path.join(self.config.root_dir, \"train.csv\"), index=False)\n",
    "        test.to_csv(os.path.join(self.config.root_dir, \"test.csv\"), index=False)\n",
    "\n",
    "        logger.info(\"Split data into training and test sets\")\n",
    "        logger.info(f\"Train shape: {train.shape}, Test shape: {test.shape}\")\n",
    "\n",
    "        print(f\"Train shape: {train.shape}, Test shape: {test.shape}\")"
   ]
  },
  {
   "cell_type": "code",
   "execution_count": 10,
   "metadata": {},
   "outputs": [
    {
     "name": "stdout",
     "output_type": "stream",
     "text": [
      "[2025-03-16 16:28:40,540: INFO: common: yaml file: config\\config.yaml loaded successfully]\n",
      "[2025-03-16 16:28:40,542: INFO: common: yaml file: params.yaml loaded successfully]\n",
      "[2025-03-16 16:28:40,544: INFO: common: yaml file: schema.yaml loaded successfully]\n",
      "[2025-03-16 16:28:40,545: INFO: common: created directory at: artifacts]\n",
      "[2025-03-16 16:28:40,547: INFO: common: created directory at: artifacts/data_transformation]\n",
      "[2025-03-16 16:28:40,568: INFO: 3741347456: Split data into training and test sets]\n",
      "[2025-03-16 16:28:40,569: INFO: 3741347456: Train shape: (914, 12), Test shape: (229, 12)]\n",
      "Train shape: (914, 12), Test shape: (229, 12)\n"
     ]
    }
   ],
   "source": [
    "try:\n",
    "    config = ConfigurationManager()\n",
    "    data_transformation_config = config.get_data_transformation_config()\n",
    "    data_transformation = DataTransformation(config=data_transformation_config)\n",
    "    data_transformation.train_test_spliting()\n",
    "except Exception as e:\n",
    "    raise e"
   ]
  },
  {
   "cell_type": "code",
   "execution_count": null,
   "metadata": {},
   "outputs": [],
   "source": []
  }
 ],
 "metadata": {
  "kernelspec": {
   "display_name": "ml_in_action",
   "language": "python",
   "name": "python3"
  },
  "language_info": {
   "codemirror_mode": {
    "name": "ipython",
    "version": 3
   },
   "file_extension": ".py",
   "mimetype": "text/x-python",
   "name": "python",
   "nbconvert_exporter": "python",
   "pygments_lexer": "ipython3",
   "version": "3.11.11"
  }
 },
 "nbformat": 4,
 "nbformat_minor": 2
}
